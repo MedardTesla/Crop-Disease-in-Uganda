{
 "cells": [
  {
   "cell_type": "markdown",
   "id": "65b68a0a-664a-4e93-a9b2-5033f683f774",
   "metadata": {},
   "source": [
    "# Crop Disease in Uganda"
   ]
  },
  {
   "cell_type": "code",
   "execution_count": 4,
   "id": "9570559c-596a-44a1-b86b-c2f14d683f36",
   "metadata": {},
   "outputs": [],
   "source": [
    "import torch\n",
    "import torch.nn as nn"
   ]
  },
  {
   "cell_type": "code",
   "execution_count": null,
   "id": "3546e9c1-9ca2-48a9-9c3c-ac76de41d9cb",
   "metadata": {},
   "outputs": [],
   "source": []
  }
 ],
 "metadata": {
  "kernelspec": {
   "display_name": "Python 3 (ipykernel)",
   "language": "python",
   "name": "python3"
  },
  "language_info": {
   "codemirror_mode": {
    "name": "ipython",
    "version": 3
   },
   "file_extension": ".py",
   "mimetype": "text/x-python",
   "name": "python",
   "nbconvert_exporter": "python",
   "pygments_lexer": "ipython3",
   "version": "3.10.9"
  }
 },
 "nbformat": 4,
 "nbformat_minor": 5
}
